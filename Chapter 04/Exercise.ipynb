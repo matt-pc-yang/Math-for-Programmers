{
 "cells": [
  {
   "cell_type": "code",
   "execution_count": 1,
   "id": "5e55e1d9",
   "metadata": {},
   "outputs": [],
   "source": [
    "from vectors import *"
   ]
  },
  {
   "cell_type": "code",
   "execution_count": 2,
   "id": "1ee2fd7a",
   "metadata": {},
   "outputs": [],
   "source": [
    "def translate_by(translation):\n",
    "    def new_translate(v):\n",
    "        return add(translation, v)\n",
    "    return new_translate    "
   ]
  },
  {
   "cell_type": "code",
   "execution_count": 3,
   "id": "25484996",
   "metadata": {},
   "outputs": [
    {
     "name": "stdout",
     "output_type": "stream",
     "text": [
      "pygame 2.1.2 (SDL 2.0.18, Python 3.9.7)\n",
      "Hello from the pygame community. https://www.pygame.org/contribute.html\n"
     ]
    }
   ],
   "source": [
    "from draw_model import *\n",
    "from teapot import *\n",
    "from transforms import polygon_map\n",
    "\n",
    "# Run interrupted after closing the Pygame window with Jupyter Notebook.  Mask this line if launching from Jupyter Notebook.\n",
    "#draw_model(polygon_map(translate_by((0,0,-20)), load_triangles()))"
   ]
  },
  {
   "cell_type": "code",
   "execution_count": 4,
   "id": "5adca095",
   "metadata": {},
   "outputs": [],
   "source": [
    "def compose(f1,f2):\n",
    "    def new_function(input):\n",
    "        return f1(f2(input))\n",
    "    return new_function\n",
    "\n",
    "# My solution\n",
    "def compose(*args):\n",
    "    if len(args) == 2:\n",
    "        def new_function(input):\n",
    "            return args[0](args[1](input))\n",
    "    else:\n",
    "        def new_function(input):\n",
    "            return args[0](compose(*args[1::])(input))\n",
    "    return new_function\n",
    "\n",
    "# Solution from text book\n",
    "def compose_book(*args):\n",
    "    def new_function(input):\n",
    "        state = input\n",
    "        for f in reversed(args):\n",
    "            state = f(state)\n",
    "        return state\n",
    "    return new_function"
   ]
  },
  {
   "cell_type": "code",
   "execution_count": 5,
   "id": "b1d77000",
   "metadata": {},
   "outputs": [
    {
     "data": {
      "text/plain": [
       "(2, 4, 4)"
      ]
     },
     "execution_count": 5,
     "metadata": {},
     "output_type": "execute_result"
    }
   ],
   "source": [
    "all_funcs = [translate_by((0 ,1 ,0)), translate_by((1, 0, 0)), translate_by((0, 1, 1))]\n",
    "result = compose(*all_funcs)((1, 2, 3))\n",
    "result"
   ]
  },
  {
   "cell_type": "code",
   "execution_count": 6,
   "id": "5cf33f70",
   "metadata": {},
   "outputs": [
    {
     "data": {
      "text/plain": [
       "(2, 4, 4)"
      ]
     },
     "execution_count": 6,
     "metadata": {},
     "output_type": "execute_result"
    }
   ],
   "source": [
    "all_funcs = [translate_by((0 ,1 ,0)), translate_by((1, 0, 0)), translate_by((0, 1, 1))]\n",
    "result = compose_book(*all_funcs)((1, 2, 3))\n",
    "result"
   ]
  },
  {
   "cell_type": "code",
   "execution_count": 7,
   "id": "858630f0",
   "metadata": {},
   "outputs": [],
   "source": [
    "# once you write g = curry2(f), the two expressions f(x,y) and g(x)(y) should return the same result.\n",
    "def curry2(f):\n",
    "    def new_func1(y):\n",
    "        def new_func2(x):\n",
    "            return f(x, y)\n",
    "        return new_func2\n",
    "    return new_func1"
   ]
  },
  {
   "cell_type": "code",
   "execution_count": 8,
   "id": "a4bee6d3",
   "metadata": {},
   "outputs": [
    {
     "data": {
      "text/plain": [
       "True"
      ]
     },
     "execution_count": 8,
     "metadata": {},
     "output_type": "execute_result"
    }
   ],
   "source": [
    "x = (1, 0, 0)\n",
    "y = (0, 1, 1)\n",
    "curry2(dot)(x)(y) == dot(x, y)"
   ]
  },
  {
   "cell_type": "code",
   "execution_count": 23,
   "id": "656846af",
   "metadata": {},
   "outputs": [
    {
     "data": {
      "text/plain": [
       "(5, 2, 3)"
      ]
     },
     "execution_count": 23,
     "metadata": {},
     "output_type": "execute_result"
    }
   ],
   "source": [
    "def stretch_x(scalar,vector):\n",
    "    x, y, z = vector\n",
    "    return x * scalar, y, z\n",
    "stretched = stretch_x(5, (1, 2, 3))\n",
    "stretched"
   ]
  },
  {
   "cell_type": "code",
   "execution_count": 24,
   "id": "04315f2d",
   "metadata": {},
   "outputs": [
    {
     "data": {
      "text/plain": [
       "(5, 2, 3)"
      ]
     },
     "execution_count": 24,
     "metadata": {},
     "output_type": "execute_result"
    }
   ],
   "source": [
    "def stretch_x_by(scalar):\n",
    "    def new_func(v):\n",
    "        return stretch_x(scalar, v)\n",
    "    return new_func\n",
    "stretched = stretch_x_by(5)((1, 2, 3))\n",
    "stretched"
   ]
  },
  {
   "cell_type": "code",
   "execution_count": 19,
   "id": "ade6a81e",
   "metadata": {},
   "outputs": [
    {
     "data": {
      "text/plain": [
       "(1, 2, 3)"
      ]
     },
     "execution_count": 19,
     "metadata": {},
     "output_type": "execute_result"
    }
   ],
   "source": [
    "# My solution of Exercise 4.19\n",
    "def linear_combination(scalars, *vectors):\n",
    "    sv = [scale(scalars[i], vectors[i]) for i in range(0, len(scalars))]\n",
    "    return add(*sv)\n",
    "linear_combination([1,2,3], (1,0,0), (0,1,0), (0,0,1))"
   ]
  },
  {
   "cell_type": "code",
   "execution_count": 18,
   "id": "6666e4f0",
   "metadata": {},
   "outputs": [
    {
     "data": {
      "text/plain": [
       "(1, 2, 3)"
      ]
     },
     "execution_count": 18,
     "metadata": {},
     "output_type": "execute_result"
    }
   ],
   "source": [
    "# Text book solution of Exercise 4.19\n",
    "def linear_combination(scalars, *vectors):\n",
    "    scaled = [scale(s,v) for s,v in zip(scalars,vectors)]\n",
    "    return add(*scaled)\n",
    "linear_combination([1,2,3], (1,0,0), (0,1,0), (0,0,1))"
   ]
  },
  {
   "cell_type": "code",
   "execution_count": 21,
   "id": "1f9be4e4",
   "metadata": {},
   "outputs": [
    {
     "data": {
      "text/plain": [
       "((1, 0.0, 0.0),\n",
       " (0, 6.123233995736766e-17, 1.0),\n",
       " (0, -1.0, 1.2246467991473532e-16))"
      ]
     },
     "execution_count": 21,
     "metadata": {},
     "output_type": "execute_result"
    }
   ],
   "source": [
    "# Exercise 4.20\n",
    "def transform_standard_basis(transform):\n",
    "    return (transform((1,0,0)), transform((0,1,0)), transform((0,0,1)))\n",
    "\n",
    "from math import pi\n",
    "transform_standard_basis(rotate_x_by(pi/2))"
   ]
  },
  {
   "cell_type": "code",
   "execution_count": 25,
   "id": "31bbaa57",
   "metadata": {},
   "outputs": [
    {
     "data": {
      "text/plain": [
       "((2, 0, 0), (0, 1, 0), (0, 0, 1))"
      ]
     },
     "execution_count": 25,
     "metadata": {},
     "output_type": "execute_result"
    }
   ],
   "source": [
    "transform_standard_basis(stretch_x_by(2))"
   ]
  }
 ],
 "metadata": {
  "interpreter": {
   "hash": "ad2bdc8ecc057115af97d19610ffacc2b4e99fae6737bb82f5d7fb13d2f2c186"
  },
  "kernelspec": {
   "display_name": "Python 3.9.7 ('base')",
   "language": "python",
   "name": "python3"
  },
  "language_info": {
   "codemirror_mode": {
    "name": "ipython",
    "version": 3
   },
   "file_extension": ".py",
   "mimetype": "text/x-python",
   "name": "python",
   "nbconvert_exporter": "python",
   "pygments_lexer": "ipython3",
   "version": "3.9.7"
  }
 },
 "nbformat": 4,
 "nbformat_minor": 5
}
